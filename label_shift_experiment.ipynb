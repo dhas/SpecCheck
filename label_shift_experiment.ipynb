{
  "nbformat": 4,
  "nbformat_minor": 0,
  "metadata": {
    "colab": {
      "name": "label_shift_experiment.ipynb",
      "provenance": [],
      "collapsed_sections": []
    },
    "kernelspec": {
      "name": "python3",
      "display_name": "Python 3"
    }
  },
  "cells": [
    {
      "cell_type": "code",
      "metadata": {
        "id": "z2DTAIcXaqiP",
        "colab_type": "code",
        "colab": {}
      },
      "source": [
        "\n",
        "\n",
        "## A function which takes the img_size, prob_vector and the number of desired samples and pytorch tensor and labels\n",
        "import numpy as np\n",
        "import cv2\n",
        "\n",
        "\n",
        "def generate_img_data(prob_vector, num_samples, img_size = (50, 50)):\n",
        "\n",
        "  \"\"\"\n",
        "    Generate images with circles inside as data\n",
        "    prob_vector: The probability for the different classes\n",
        "                  (note that this is hard-coded to three classes: big circle, medium circle and small circle)\n",
        "    num_samples: Number of desired samples\n",
        "    img_size: Size of img\n",
        "  \"\"\"\n",
        "\n",
        "  #num_samples_1_train = 5000 \n",
        "  store_dataset_x = np.zeros((num_samples, img_size[0], img_size[1]))\n",
        "  store_dataset_y = np.zeros(num_samples)\n",
        "\n",
        "  num_classes = len(prob_vector)\n",
        "  #circle_prob_train = np.array([0.2, 0.4, 0.4])\n",
        "  ind_vec_train = [np.random.choice([kkk for kkk in range(num_classes)], p = prob_vector) for iii in range(num_samples)]\n",
        "\n",
        "  for kkk in range(num_samples):\n",
        "\n",
        "    ## Generate random center position of the circle\n",
        "    centre_row = np.random.randint(15,35)\n",
        "    centre_col = np.random.randint(15,35)\n",
        "\n",
        "    ## Generate circle with big, medium or small radius\n",
        "    if ind_vec_train[kkk] == 0:\n",
        "      img_rad = np.random.randint(2,4)\n",
        "    if ind_vec_train[kkk] == 1:\n",
        "      img_rad = np.random.randint(8,12)\n",
        "    if ind_vec_train[kkk] == 2:\n",
        "      img_rad = np.random.randint(14,18)\n",
        "    \n",
        "    img = np.zeros(img_size)\n",
        "    img = cv2.circle(img, (centre_row, centre_col), img_rad, 1, 2)\n",
        "    store_dataset_x[kkk,:,:] = img\n",
        "    store_dataset_y[kkk] = ind_vec_train[kkk]\n",
        "\n",
        "  return store_dataset_x, store_dataset_y\n",
        "\n"
      ],
      "execution_count": 0,
      "outputs": []
    },
    {
      "cell_type": "code",
      "metadata": {
        "id": "a7L5n3FgfAeW",
        "colab_type": "code",
        "colab": {}
      },
      "source": [
        "## Just a function to plot some samples to see what it looks like\n",
        "import matplotlib.pyplot as plt\n",
        "def plot_img(img_array, num_plots = 4):\n",
        "    fig, ax = plt.subplots(1, num_plots, figsize=(16,8))\n",
        "    plot_ind = np.random.randint(0, img_array.shape[0], 4)\n",
        "    for jjj in range(num_plots):\n",
        "      ax[jjj].imshow(img_array[plot_ind[jjj],:,:])\n",
        "\n",
        "    fig.show()"
      ],
      "execution_count": 0,
      "outputs": []
    },
    {
      "cell_type": "code",
      "metadata": {
        "id": "H6xg9KL5gN3A",
        "colab_type": "code",
        "colab": {}
      },
      "source": [
        "\n",
        "import torch\n",
        "\n",
        "def create_data_loader(img_array, img_labels, batch_size = 64):\n",
        "  x_torch = torch.from_numpy(img_array).float()\n",
        "  x_torch = torch.unsqueeze(x_torch, 1)\n",
        "  y_torch = torch.from_numpy(img_labels).long()\n",
        "  data_list = [(x_torch[kkk,:,:,:], y_torch[kkk]) for kkk in range(x_torch.shape[0])]\n",
        "  data_loader = torch.utils.data.DataLoader(data_list, batch_size = batch_size, shuffle = True)\n",
        "  return data_loader\n"
      ],
      "execution_count": 0,
      "outputs": []
    },
    {
      "cell_type": "code",
      "metadata": {
        "id": "41uywzC_ggU9",
        "colab_type": "code",
        "colab": {}
      },
      "source": [
        "import torch.nn as nn\n",
        "import torch.nn.functional as F\n",
        "\n",
        "\n",
        "class Network(nn.Module):\n",
        "\n",
        "  def __init__(self):\n",
        "    super().__init__()\n",
        "    self.conv1 = nn.Conv2d(1, 100, 5)\n",
        "    self.conv2 = nn.Conv2d(100, 60, 5)\n",
        "    self.conv3 = nn.Conv2d(60, 20, 5)\n",
        "    self.fc1 = nn.Linear(500, 100)\n",
        "    self.fc2 = nn.Linear(100, 3)\n",
        "    self.T = nn.Parameter(torch.tensor(1.))\n",
        "    self.bias_t = nn.Parameter(torch.zeros(3))\n",
        "\n",
        "  def train_net(self):\n",
        "    for param in self.named_parameters():\n",
        "      \n",
        "      if param[0] in ['T', 'bias_t']:\n",
        "        param[1].requires_grad = False\n",
        "  \n",
        "  def calibrate(self):\n",
        "    \n",
        "    for param in self.named_parameters():\n",
        "      if param[0] in ['T', 'bias_t']:\n",
        "        param[1].requires_grad = True\n",
        "      else:\n",
        "        param[1].requires_grad = False\n",
        "\n",
        "  def forward(self, x):\n",
        "    x = F.relu(self.conv1(x))\n",
        "    x = F.max_pool2d(x, (2, 2))\n",
        "    x = F.relu(self.conv2(x))\n",
        "    x = F.max_pool2d(x, (2, 2))\n",
        "    x = F.relu(self.conv3(x))\n",
        "    x = x.view(x.shape[0],-1)\n",
        "    x = F.relu(self.fc1(x))\n",
        "    x = self.fc2(x)/self.T + self.bias_t ## For calibration later\n",
        "    x = F.log_softmax(x, dim = 1)\n",
        "    return x\n",
        "\n"
      ],
      "execution_count": 0,
      "outputs": []
    },
    {
      "cell_type": "code",
      "metadata": {
        "id": "y_T5BUWugy-f",
        "colab_type": "code",
        "colab": {}
      },
      "source": [
        "def train_network(my_net, train_loader, val_loader, max_epoch = 2, calibrate = False):\n",
        "\n",
        "  if not calibrate:\n",
        "    my_net.train_net()\n",
        "    opt = torch.optim.SGD(my_net.parameters(), lr = 1e-2, momentum = 0.9)\n",
        "    loss_fn = nn.NLLLoss()\n",
        "\n",
        "\n",
        "    for epoch in range(max_epoch):\n",
        "\n",
        "      for data, anno in train_loader:\n",
        "        \n",
        "        my_net.zero_grad()\n",
        "        out = my_net(data)\n",
        "        loss = loss_fn(out, anno)\n",
        "        loss.backward()\n",
        "        opt.step()\n",
        "\n",
        "      with torch.no_grad():\n",
        "        acc_v = 0\n",
        "        for data, anno_v in val_loader:\n",
        "          my_net.zero_grad()\n",
        "          out_v = my_net(data)\n",
        "          loss_v = loss_fn(out_v, anno_v)\n",
        "          values, indices = torch.max(out_v, 1)\n",
        "          acc_v = acc_v + torch.sum(indices == anno_v)\n",
        "        acc_v = acc_v.float() / len(val_loader.dataset)\n",
        "\n",
        "\n",
        "      print('Epoch {} Train Loss {} Val Loss {} Val Acc {}'.format(epoch, loss.item(), loss_v.item(), acc_v))\n",
        "\n",
        "  if calibrate: \n",
        "\n",
        "    my_net.calibrate()\n",
        "\n",
        "    opt = torch.optim.SGD(my_net.parameters(), lr = 1e-5, momentum = 0.9)\n",
        "    loss_fn = nn.NLLLoss()\n",
        "\n",
        "    for epoch in range(10):\n",
        "      acc_v = 0\n",
        "      for data, anno_v in val_loader:\n",
        "        my_net.zero_grad()\n",
        "        out_v = my_net(data)\n",
        "        loss_v = loss_fn(out_v, anno_v)\n",
        "        loss_v.backward()\n",
        "        opt.step()\n",
        "        values, indices = torch.max(out_v, 1)\n",
        "        acc_v = acc_v + torch.sum(indices == anno_v)\n",
        "      acc_v = acc_v.float() / len(val_loader.dataset)\n",
        "      print('Val loss {} Val Acc {}'.format(loss_v, acc_v))"
      ],
      "execution_count": 0,
      "outputs": []
    },
    {
      "cell_type": "code",
      "metadata": {
        "id": "EQPpwOFJjkwa",
        "colab_type": "code",
        "colab": {}
      },
      "source": [
        "def estimate_class_probabilities(my_net, test_loader, simulated_prob):\n",
        "\n",
        "  store_probs = []\n",
        "  for idx, (data, anno_s) in enumerate(test_loader):\n",
        "\n",
        "    prob = my_net(data)\n",
        "    if idx == 0:\n",
        "      store_prob = torch.exp(prob)\n",
        "    else:\n",
        "      store_prob = torch.cat((store_prob, torch.exp(prob)))\n",
        "  ## To get all the probabilities as a numpy array\n",
        "  prob_source_target = store_prob.detach().numpy()\n",
        "\n",
        "  ## The algorithm is performed below:\n",
        "  target_prob = simulated_prob ## Init\n",
        "\n",
        "  num_iters = 50\n",
        "  eps = 1e-8\n",
        "\n",
        "  for kkk in range(num_iters):\n",
        "\n",
        "    store_target_prob = []\n",
        "\n",
        "    for aaa in range(prob_source_target.shape[0]):\n",
        "\n",
        "      p1 = np.log(target_prob) + np.log(prob_source_target[aaa,:] + eps)  - np.log(simulated_prob)\n",
        "      p2 = np.sum(np.exp(np.log(target_prob) + np.log(prob_source_target[aaa,:] + eps)  - np.log(simulated_prob)))\n",
        "      prob_targ_cond = np.exp(p1 - np.log(p2))\n",
        "      store_target_prob.append(prob_targ_cond)\n",
        "      \n",
        "    all_probs = np.array(store_target_prob)\n",
        "    target_prob = np.mean(all_probs, 0)\n",
        "\n",
        "  return target_prob"
      ],
      "execution_count": 0,
      "outputs": []
    },
    {
      "cell_type": "markdown",
      "metadata": {
        "id": "DX_RzLKHnVDK",
        "colab_type": "text"
      },
      "source": [
        "The setup is as follows: \n",
        "* We have a simulated dataset $(\\tilde{x}_i,a_i)$ with consisting of images and their corresponding annotations. These samples are assumed to follow a joint distribution $p(\\tilde{x},a)$ which induces a marginal distribution over the annotations $p(a)$\n",
        "* We have an observed dataset with images $(x_i)$ with unobserved annotations sampled from a joint distribution $Q(x,a)$ which induces a marginal distribution $q(a)$.\n",
        "* The goal is to determine the difference between $p(a)$ and $q(a)$.\n",
        "\n",
        "We can do this with an assumption of label shift. The main assumption here is that $p(x|a) = q(x|a)$ (with QD and SD thise assumption would be that given an annotation the distribution for the images would be the same which to me does not hold since the images look different, but we might be able to argue instead that $p(f(x)|a) = q(f(x)|a)$ where $f$ is the neural network mapping into a latent space. So given an annotation, the distribution in the latent space should be the same for the two datasets which might be sort of true if we can assume that the network extracts some underlying characteristics of our data) and that the difference in the joint distribution arises from the fact that $p(a) \\neq q(a)$.\n",
        "\n",
        "Lets try a simple example and see how it works. \n",
        "* We create an image dataset where we have circles with three possible classes: Big circle, medium circle and small circle.\n",
        "* We create a set to act as SD where we have the probabilities [0.2, 0.4,0.4] for the three classes and a set to act as QD (note that $G=G^*$ here) with probabilities [0.2,0.7,0.1].\n",
        "* Goal is to obtain an estimate of the distribution [0.2,0.7,0.1] over the QD set.\n",
        "\n"
      ]
    },
    {
      "cell_type": "code",
      "metadata": {
        "id": "bY75ktOvcwy3",
        "colab_type": "code",
        "colab": {
          "base_uri": "https://localhost:8080/",
          "height": 698
        },
        "outputId": "181f2acf-1385-485d-dfc1-a1ed86946f1d"
      },
      "source": [
        "## This is the main file then\n",
        "\n",
        "## The probabilities for the three classes\n",
        "##    Small circle, medium circle, big circle\n",
        "simulate_prob_vec = [0.2,0.4,0.4] ## This is the probabilities for the simulated data\n",
        "observed_prob_vec = [0.2,0.7,0.1] ## These are the probabilities we want to infer\n",
        "\n",
        "\n",
        "num_train_samples = 5000\n",
        "num_val_samples = 1000\n",
        "num_test_samples = 15000\n",
        "\n",
        "x_train, y_train = generate_img_data(simulate_prob_vec, num_train_samples)\n",
        "x_val, y_val = generate_img_data(simulate_prob_vec, num_val_samples)\n",
        "x_test, y_test = generate_img_data(observed_prob_vec, num_val_samples)\n",
        "\n",
        "## Just to see the dataset\n",
        "## There is no difference between G and G* now.\n",
        "plot_img(x_train) \n",
        "plot_img(x_val)\n",
        "plot_img(x_test)\n"
      ],
      "execution_count": 27,
      "outputs": [
        {
          "output_type": "display_data",
          "data": {
            "image/png": "[encoded data removed]",
            "text/plain": [
              "<Figure size 1152x576 with 4 Axes>"
            ]
          },
          "metadata": {
            "tags": []
          }
        },
        {
          "output_type": "display_data",
          "data": {
            "image/png": "[encoded data removed]",
            "text/plain": [
              "<Figure size 1152x576 with 4 Axes>"
            ]
          },
          "metadata": {
            "tags": []
          }
        },
        {
          "output_type": "display_data",
          "data": {
            "image/png": "[encoded data removed]",
            "text/plain": [
              "<Figure size 1152x576 with 4 Axes>"
            ]
          },
          "metadata": {
            "tags": []
          }
        }
      ]
    },
    {
      "cell_type": "code",
      "metadata": {
        "id": "mBqAwBoddhGY",
        "colab_type": "code",
        "colab": {
          "base_uri": "https://localhost:8080/",
          "height": 243
        },
        "outputId": "4b1d77f0-4759-489d-951c-1d11b3e43543"
      },
      "source": [
        "## Train the network and calibrate it\n",
        "train_loader = create_data_loader(x_train, y_train)\n",
        "val_loader = create_data_loader(x_val, y_val)\n",
        "test_loader = create_data_loader(x_test, y_test)\n",
        "\n",
        "my_net = Network()\n",
        "train_network(my_net, train_loader, val_loader, calibrate = False)\n",
        "print('Calibrating the network')\n",
        "train_network(my_net, train_loader, val_loader, calibrate = True)"
      ],
      "execution_count": 28,
      "outputs": [
        {
          "output_type": "stream",
          "text": [
            "Epoch 0 Train Loss 0.11778327077627182 Val Loss 0.04885342717170715 Val Acc 0.9860000014305115\n",
            "Epoch 1 Train Loss 0.00048001279355958104 Val Loss 0.0022883680649101734 Val Acc 1.0\n",
            "Calibrating the network\n",
            "Val loss 0.00040808686753734946 Val Acc 1.0\n",
            "Val loss 0.00028041511541232467 Val Acc 1.0\n",
            "Val loss 0.0005068840691819787 Val Acc 1.0\n",
            "Val loss 0.0010371885728091002 Val Acc 1.0\n",
            "Val loss 0.0006770615582354367 Val Acc 1.0\n",
            "Val loss 0.0013925096718594432 Val Acc 1.0\n",
            "Val loss 0.0005729129770770669 Val Acc 1.0\n",
            "Val loss 0.0005144446040503681 Val Acc 1.0\n",
            "Val loss 0.0014219331787899137 Val Acc 1.0\n",
            "Val loss 0.008515631780028343 Val Acc 1.0\n"
          ],
          "name": "stdout"
        }
      ]
    },
    {
      "cell_type": "code",
      "metadata": {
        "id": "DWS_tP49gdDv",
        "colab_type": "code",
        "colab": {
          "base_uri": "https://localhost:8080/",
          "height": 52
        },
        "outputId": "8b57603a-c2a8-4eb2-8416-239a32c14741"
      },
      "source": [
        "## Estimate the annotation probabilties\n",
        "estimated_prob = estimate_class_probabilities(my_net, test_loader, simulate_prob_vec)\n",
        "print('The true probabilities are {}'.format(observed_prob_vec))\n",
        "print('The estimated probabilities are {}'.format(estimated_prob))"
      ],
      "execution_count": 29,
      "outputs": [
        {
          "output_type": "stream",
          "text": [
            "The true probabilities are [0.2, 0.7, 0.1]\n",
            "The estimated probabilities are [0.21178482 0.6925973  0.09561789]\n"
          ],
          "name": "stdout"
        }
      ]
    },
    {
      "cell_type": "code",
      "metadata": {
        "id": "Xu11hMkvkhRJ",
        "colab_type": "code",
        "colab": {
          "base_uri": "https://localhost:8080/",
          "height": 35
        },
        "outputId": "71cdf8b6-1707-4cd5-b31f-fcaaacd115a7"
      },
      "source": [
        "## We can now gauge the differences in the annotation distribution between the two sets\n",
        "prob_diff = np.abs(estimated_prob - simulate_prob_vec)\n",
        "print(prob_diff) ## Values close to 0 indicate our expectations coincide with the reality for that annotation."
      ],
      "execution_count": 32,
      "outputs": [
        {
          "output_type": "stream",
          "text": [
            "[0.01178482 0.2925973  0.30438211]\n"
          ],
          "name": "stdout"
        }
      ]
    },
    {
      "cell_type": "markdown",
      "metadata": {
        "id": "wYRkEJlqlWx5",
        "colab_type": "text"
      },
      "source": [
        "So in this simple example we could see that the method gives quite good results. Some issues and questions:\n",
        "* Now I only worked with three annotations, big, medium, small. For this setting it is easy to construct a network that predicts these three annotations well from the images. But if we have many annotations, like brightness can range from 0-255, bounding box corner can range from 0-20 etc. This creates a huge classification problem for the network. And I think we somehow need it to be a classification problem because the method relies on $p(a|x)$ being probabilities. So if one wants to train a network to predict bounding box coordinates with mean squared loss then one has to find a way to convert the corresponding values to probabilities before applying the algorithm.\n",
        "* A possible solution to the above problem would be to work with annotations on different levels. So create \"large\" annotation classes and see if the expectations on the simulated dataset match those on the observed dataset first. And then find the areas where the expectations are mismatched and explore those further. For example, in the example above we could see that our expectation for the small circle class have been met and thus we can maybe just continue with investigating the large and medium class and create/modify a network to predict these better. This could be done by creating new classes such as \"medium circles in top right corner, medium circle in bottom left, etc\" and then apply the same method and see where the expectations differ now.\n",
        "* Now there is no difference in $G$ and $G^*$ for the train and test set but this might affect the end results as well.\n",
        "* I also mentioned in the beginning that we might be able to assume $p(f(x)|a) = q(f(x)|a)$ but maybe one needs to think more about this.\n",
        "* Also the dataset here might be a bit too easy and that is why the results are so good here.\n"
      ]
    }
  ]
}